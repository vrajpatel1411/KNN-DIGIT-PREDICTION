{
 "cells": [
  {
   "cell_type": "code",
   "execution_count": 1,
   "id": "9503a9b3",
   "metadata": {},
   "outputs": [],
   "source": [
    "import os\n",
    "import numpy as np\n",
    "import math\n",
    "from math import sqrt\n",
    "from random import randrange\n",
    "import matplotlib.pyplot as plt"
   ]
  },
  {
   "cell_type": "code",
   "execution_count": 2,
   "id": "015417db",
   "metadata": {},
   "outputs": [],
   "source": [
    "# get all file name from directory\n",
    "\n",
    "train_path= 'C:\\\\Users\\\\vrajp\\\\Downloads\\\\COMP-5013-dataset1\\\\training_validation'\n",
    "\n",
    "train_res = os.listdir(train_path)"
   ]
  },
  {
   "cell_type": "code",
   "execution_count": 3,
   "id": "bc3b0d1c",
   "metadata": {},
   "outputs": [],
   "source": [
    "def get_dataset(path,res):\n",
    "    final_list=[]\n",
    "    class_label=[]\n",
    "    for k in range(len(res)):\n",
    "        main_list=[]\n",
    "        with open(path+'\\\\'+res[k]) as f:\n",
    "            nums_list=[]\n",
    "            data_set=[]\n",
    "            for i in f.readlines():\n",
    "                for j in i:\n",
    "                    if j=='0':\n",
    "                        nums_list.append(0)\n",
    "                    if j=='1':\n",
    "                        nums_list.append(1)\n",
    "            main_list.append(int(res[k][6]))\n",
    "            main_list.append(np.array(nums_list))\n",
    "        final_list.append(main_list)\n",
    "    return final_list"
   ]
  },
  {
   "cell_type": "code",
   "execution_count": 4,
   "id": "0471badb",
   "metadata": {},
   "outputs": [],
   "source": [
    "def cross_validation(dataset,num_folds):\n",
    "    length_dataset=len(dataset)\n",
    "    folded_data=list()\n",
    "    folds=int(length_dataset/num_folds)\n",
    "    for i in range(num_folds):\n",
    "        if i==(num_folds-1):\n",
    "            start=i*folds\n",
    "            end=len(dataset)\n",
    "            folded_data.append(list(dataset[start:end]))\n",
    "        else:\n",
    "            start=i*folds\n",
    "            end=(i+1)*folds\n",
    "            folded_data.append(list(dataset[start:end]))\n",
    "    return folded_data\n",
    "    \n",
    "        "
   ]
  },
  {
   "cell_type": "code",
   "execution_count": 5,
   "id": "46af1c57",
   "metadata": {},
   "outputs": [],
   "source": [
    "def calculate_accuracy(data):\n",
    "    corrected=0\n",
    "    for i in range(len(data)):\n",
    "        if(data[i][0]==data[i][1]):\n",
    "            corrected+=1\n",
    "    return float(corrected/len(data))*100       "
   ]
  },
  {
   "cell_type": "code",
   "execution_count": 6,
   "id": "490d6f1e",
   "metadata": {},
   "outputs": [],
   "source": [
    "def do_prediction(train_data,test_data,k):\n",
    "    result=list()\n",
    "    for i in range(len(test_data)):\n",
    "            distance=list()\n",
    "            temp={}\n",
    "            for j in range(len(train_data)):\n",
    "                distance.append([test_data[i][0],train_data[j][0],float(sqrt(np.sum(np.square(np.array(test_data[i][1])-np.array(train_data[j][1])))))])\n",
    "            distance.sort(key = lambda x: x[2])\n",
    "            for p in range(k):\n",
    "                if distance[p][1] in temp.keys():\n",
    "                    temp.update({distance[p][1]:temp[distance[p][1]]+1})\n",
    "                else:\n",
    "                    temp[distance[p][1]]=1\n",
    "            predicted_value=max(temp, key=lambda x: temp[x])\n",
    "            temp=[predicted_value,test_data[i][0]]\n",
    "            result.append(temp)\n",
    "    return result"
   ]
  },
  {
   "cell_type": "code",
   "execution_count": 7,
   "id": "c8f44800",
   "metadata": {},
   "outputs": [],
   "source": [
    "def predict_digit(folded_data,k,folds):\n",
    "    \n",
    "    scores=[]\n",
    "    for z in range(folds):\n",
    "        train_data=list()\n",
    "        test_data=list()\n",
    "        for m in range(folds):\n",
    "            if z==m:\n",
    "                test_data+=folded_data[m]\n",
    "            else:\n",
    "                train_data+=folded_data[m]\n",
    "        result=do_prediction(train_data,test_data,k)\n",
    "        accuracy=calculate_accuracy(result)\n",
    "        scores.append(accuracy)\n",
    "        average_accuracy=float(sum(scores)/len(scores))\n",
    "    return average_accuracy"
   ]
  },
  {
   "cell_type": "code",
   "execution_count": 8,
   "id": "48409f9f",
   "metadata": {},
   "outputs": [],
   "source": [
    "def KNN_Algorithm(dataset,K,folds):\n",
    "    folded_data=cross_validation(list(dataset),folds)\n",
    "    acc=predict_digit(folded_data,K,folds)\n",
    "    return acc"
   ]
  },
  {
   "cell_type": "code",
   "execution_count": 9,
   "id": "3963ea42",
   "metadata": {},
   "outputs": [
    {
     "data": {
      "image/png": "[encoded data removed]",
      "text/plain": [
       "<Figure size 432x288 with 1 Axes>"
      ]
     },
     "metadata": {
      "needs_background": "light"
     },
     "output_type": "display_data"
    },
    {
     "name": "stdout",
     "output_type": "stream",
     "text": [
      "CPU times: total: 6min 5s\n",
      "Wall time: 8min 13s\n"
     ]
    }
   ],
   "source": [
    "%%time\n",
    "dataset=get_dataset(train_path,train_res)\n",
    "dataset=np.array(dataset,dtype=object)\n",
    "np.random.shuffle(dataset)\n",
    "folds=5\n",
    "All_accuracy=dict()\n",
    "for i in range(11):\n",
    "    accuracy=KNN_Algorithm(dataset,i+1,folds)\n",
    "    All_accuracy[i+1]=accuracy\n",
    "    \n",
    "\n",
    "plt.plot(All_accuracy.keys(),All_accuracy.values(),color='r')\n",
    "\n",
    "plt.xlabel(\"Value of K in KNN\")\n",
    "plt.ylabel(\"Accuracy\")\n",
    "plt.title(\"Value of K comparision\")\n",
    "plt.show()\n",
    "\n",
    "Keymax = max(zip(All_accuracy.values(), All_accuracy.keys()))[1]\n"
   ]
  },
  {
   "cell_type": "code",
   "execution_count": 10,
   "id": "87d9f62f",
   "metadata": {},
   "outputs": [
    {
     "name": "stdout",
     "output_type": "stream",
     "text": [
      "98.5200845665962\n"
     ]
    }
   ],
   "source": [
    "test_path= \"C:\\\\Users\\\\vrajp\\\\Downloads\\\\COMP-5013-dataset1\\\\test\"\n",
    "\n",
    "test_res=os.listdir(test_path)\n",
    "\n",
    "train_data=np.array(get_dataset(train_path,train_res),dtype=object)\n",
    "test_data=np.array(get_dataset(test_path,test_res),dtype=object)\n",
    "\n",
    "result=do_prediction(train_data,test_data,Keymax)\n",
    "\n",
    "accuracy=calculate_accuracy(result)\n",
    "\n",
    "print(accuracy)"
   ]
  },
  {
   "cell_type": "code",
   "execution_count": null,
   "id": "b3247ca4",
   "metadata": {},
   "outputs": [],
   "source": [
    "\n"
   ]
  }
 ],
 "metadata": {
  "kernelspec": {
   "display_name": "Python 3 (ipykernel)",
   "language": "python",
   "name": "python3"
  },
  "language_info": {
   "codemirror_mode": {
    "name": "ipython",
    "version": 3
   },
   "file_extension": ".py",
   "mimetype": "text/x-python",
   "name": "python",
   "nbconvert_exporter": "python",
   "pygments_lexer": "ipython3",
   "version": "3.9.12"
  }
 },
 "nbformat": 4,
 "nbformat_minor": 5
}
