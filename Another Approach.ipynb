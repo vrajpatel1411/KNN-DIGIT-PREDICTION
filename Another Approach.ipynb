{
 "cells": [
  {
   "cell_type": "code",
   "execution_count": 1,
   "id": "9503a9b3",
   "metadata": {},
   "outputs": [],
   "source": [
    "import os\n",
    "import numpy as np\n",
    "import math\n",
    "from math import sqrt\n",
    "from random import randrange\n",
    "\n",
    "# get all file name from directory\n",
    "\n",
    "dir_path= 'C:\\\\Users\\\\vrajp\\\\Downloads\\\\COMP-5013-dataset1\\\\training_validation'\n",
    "\n",
    "res = os.listdir(dir_path)"
   ]
  },
  {
   "cell_type": "code",
   "execution_count": 2,
   "id": "bc3b0d1c",
   "metadata": {},
   "outputs": [],
   "source": [
    "def get_dataset(res):\n",
    "    final_list=[]\n",
    "    class_label=[]\n",
    "    for k in range(len(res)):\n",
    "        main_list=[]\n",
    "        with open(dir_path+'\\\\'+res[k]) as f:\n",
    "            nums_list=[]\n",
    "            data_set=[]\n",
    "            for i in f.readlines():\n",
    "                for j in i:\n",
    "                    if j=='0':\n",
    "                        nums_list.append(0)\n",
    "                    if j=='1':\n",
    "                        nums_list.append(1)\n",
    "            main_list.append(int(res[k][6]))\n",
    "            main_list.append(np.array(nums_list))\n",
    "        final_list.append(main_list)\n",
    "    return final_list"
   ]
  },
  {
   "cell_type": "code",
   "execution_count": 3,
   "id": "0471badb",
   "metadata": {},
   "outputs": [],
   "source": [
    "def cross_validation(dataset,num_folds):\n",
    "    length_dataset=len(dataset)\n",
    "    folded_data=list()\n",
    "    folds=int(length_dataset/num_folds)\n",
    "    for i in range(num_folds):\n",
    "        if i==(num_folds-1):\n",
    "            start=i*folds\n",
    "            end=len(dataset)\n",
    "            folded_data.append(list(dataset[start:end]))\n",
    "        else:\n",
    "            start=i*folds\n",
    "            end=(i+1)*folds\n",
    "            folded_data.append(list(dataset[start:end]))\n",
    "    return folded_data\n",
    "    \n",
    "        "
   ]
  },
  {
   "cell_type": "code",
   "execution_count": 4,
   "id": "1f0c1843",
   "metadata": {},
   "outputs": [],
   "source": [
    "def calculate_distance(row1,row2):\n",
    "    distance=list()\n",
    "    for i in range(len(row1)):\n",
    "        distance.append((row1[i]-row2[i])**2);\n",
    "    return sum(distance)"
   ]
  },
  {
   "cell_type": "code",
   "execution_count": 5,
   "id": "46af1c57",
   "metadata": {},
   "outputs": [],
   "source": [
    "def calculate_accuracy(data):\n",
    "    corrected=0\n",
    "    for i in range(len(data)):\n",
    "        if(data[i][0]==data[i][1]):\n",
    "            corrected+=1\n",
    "    return float(corrected/len(data))*100       "
   ]
  },
  {
   "cell_type": "code",
   "execution_count": 6,
   "id": "e76483d4",
   "metadata": {},
   "outputs": [],
   "source": [
    "def euclidean_distance(train_data,test_data,k):\n",
    "    result=list()\n",
    "    for i in range(len(test_data)):\n",
    "        distance=list()\n",
    "        \n",
    "        temp={}\n",
    "        for j in range(len(train_data)):\n",
    "            class_label1=test_data[i][0];\n",
    "            class_label2=train_data[j][0];\n",
    "            row1=test_data[i][1];\n",
    "            row2=train_data[j][1];\n",
    "            distance.append([class_label1,class_label2,float(sqrt(calculate_distance(row1,row2)))])\n",
    "        distance.sort(key = lambda x: x[2])\n",
    "        for i in range(k):\n",
    "            if distance[i][1] in temp.keys():\n",
    "                t1={distance[i][1]:temp[distance[i][1]]+1}\n",
    "                temp.update(t1)\n",
    "            else:\n",
    "                temp[distance[i][1]]=1\n",
    "        predicted_value=max(temp, key=lambda x: temp[x])\n",
    "        temp=[predicted_value,class_label1]\n",
    "        result.append(temp)\n",
    "    return result"
   ]
  },
  {
   "cell_type": "code",
   "execution_count": null,
   "id": "de898a23",
   "metadata": {},
   "outputs": [],
   "source": []
  },
  {
   "cell_type": "code",
   "execution_count": 7,
   "id": "c8f44800",
   "metadata": {},
   "outputs": [],
   "source": [
    "def predict_digit(folded_data,k,folds):\n",
    "    distance=list()\n",
    "    scores=[]\n",
    "    for i in range(folds):\n",
    "        training_data=list()\n",
    "        test_data=list()\n",
    "        for j in range(folds):\n",
    "            if i==j:\n",
    "                test_data+=folded_data[j]\n",
    "            else:\n",
    "                training_data+=folded_data[j]\n",
    "        result=euclidean_distance(training_data,test_data,k)\n",
    "        accuracy=calculate_accuracy(result)\n",
    "        scores.append(accuracy)\n",
    "    return scores"
   ]
  },
  {
   "cell_type": "code",
   "execution_count": 8,
   "id": "48409f9f",
   "metadata": {},
   "outputs": [],
   "source": [
    "def KNN_Algorithm(dataset,K,folds):\n",
    "    folded_data=cross_validation(list(dataset),folds)\n",
    "    prediction=predict_digit(folded_data,K,folds)\n",
    "    return prediction"
   ]
  },
  {
   "cell_type": "code",
   "execution_count": null,
   "id": "3963ea42",
   "metadata": {},
   "outputs": [
    {
     "name": "stdout",
     "output_type": "stream",
     "text": [
      "k====1\n",
      "[97.92746113989638, 96.37305699481865, 97.40932642487047, 95.33678756476684, 96.41025641025641]\n",
      "k====2\n",
      "[97.92746113989638, 96.37305699481865, 97.40932642487047, 95.33678756476684, 96.41025641025641]\n",
      "k====3\n",
      "[97.40932642487047, 96.89119170984456, 98.70466321243524, 95.85492227979275, 96.66666666666667]\n",
      "k====4\n",
      "[97.40932642487047, 97.15025906735751, 98.44559585492227, 95.59585492227978, 97.17948717948718]\n",
      "k====5\n",
      "[96.89119170984456, 96.6321243523316, 97.92746113989638, 95.59585492227978, 96.15384615384616]\n",
      "k====6\n",
      "[96.89119170984456, 96.89119170984456, 97.92746113989638, 95.85492227979275, 96.41025641025641]\n",
      "k====7\n",
      "[96.89119170984456, 96.37305699481865, 97.92746113989638, 95.85492227979275, 95.64102564102565]\n"
     ]
    }
   ],
   "source": [
    "dataset=get_dataset(res)\n",
    "dataset=np.array(dataset,dtype=object)\n",
    "np.random.shuffle(dataset)\n",
    "folds=5\n",
    "for i in range(11):\n",
    "    accuracy=KNN_Algorithm(dataset,i+1,folds)\n",
    "    print(\"k====\"+str(i+1))\n",
    "    print(accuracy)\n"
   ]
  },
  {
   "cell_type": "code",
   "execution_count": null,
   "id": "87d9f62f",
   "metadata": {},
   "outputs": [],
   "source": [
    "\n",
    "    "
   ]
  }
 ],
 "metadata": {
  "kernelspec": {
   "display_name": "Python 3 (ipykernel)",
   "language": "python",
   "name": "python3"
  },
  "language_info": {
   "codemirror_mode": {
    "name": "ipython",
    "version": 3
   },
   "file_extension": ".py",
   "mimetype": "text/x-python",
   "name": "python",
   "nbconvert_exporter": "python",
   "pygments_lexer": "ipython3",
   "version": "3.9.12"
  }
 },
 "nbformat": 4,
 "nbformat_minor": 5
}
