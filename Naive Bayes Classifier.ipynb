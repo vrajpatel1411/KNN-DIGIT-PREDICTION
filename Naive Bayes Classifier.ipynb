{
 "cells": [
  {
   "cell_type": "code",
   "execution_count": 1,
   "id": "04e19e10",
   "metadata": {},
   "outputs": [],
   "source": [
    "import os\n",
    "import email \n",
    "import re\n",
    "from nltk.tokenize import word_tokenize\n",
    "import nltk\n",
    "# nltk.download('punkt')\n",
    "res_path=\"C:\\\\Users\\\\vrajp\\\\Downloads\\\\COMP-5013-dataset2\\\\dataset2\\\\train\" "
   ]
  },
  {
   "cell_type": "code",
   "execution_count": 2,
   "id": "c4ae2322",
   "metadata": {},
   "outputs": [],
   "source": [
    "resources=os.listdir(res_path)"
   ]
  },
  {
   "cell_type": "code",
   "execution_count": 3,
   "id": "a350cd33",
   "metadata": {},
   "outputs": [],
   "source": [
    "electronic_dataset=os.listdir(res_path+\"\\\\\"+resources[1])\n",
    "hardware_dataset=os.listdir(res_path+\"\\\\\"+resources[0])"
   ]
  },
  {
   "cell_type": "code",
   "execution_count": 4,
   "id": "a8a15150",
   "metadata": {},
   "outputs": [],
   "source": [
    "def prepare_dataset(res_path,res_name,dataset):\n",
    "    final_string=\"\"\n",
    "    for i in range(len(dataset)):\n",
    "        \n",
    "        with open(res_path+\"\\\\\"+res_name+\"\\\\\"+dataset[i]) as f:\n",
    "            file_text=f.read()\n",
    "            \n",
    "            message = email.message_from_string(file_text)\n",
    "            data=str(message.get_payload(decode=True))\n",
    "            data=data.replace('\\\\n',\"\")\n",
    "            file = re.sub(r'\\W', ' ', data)\n",
    "            file = re.sub(r'\\s+', ' ', file)\n",
    "            file=re.sub('(\\s+)(I|a|an|am|and|the)(\\s+)', '', file)\n",
    "            file=re.sub(r'[0-9]','',file)\n",
    "            file=file.replace('_','')\n",
    "            final_string+=\" \"+file\n",
    "            final_string=\" \".join(final_string.split())\n",
    "    tokens = word_tokenize(final_string)\n",
    "    for i in tokens:\n",
    "        if(len(i) > 1):\n",
    "            continue\n",
    "        else:\n",
    "            tokens.remove(i)\n",
    "    return tokens"
   ]
  },
  {
   "cell_type": "code",
   "execution_count": 5,
   "id": "ec42f37b",
   "metadata": {},
   "outputs": [],
   "source": [
    "def generate_word_frequency(dataset):\n",
    "    final_dictionary=dict()\n",
    "    for i in range(len(dataset)):\n",
    "        if dataset[i] in final_dictionary.keys():\n",
    "            continue\n",
    "        else:\n",
    "            final_dictionary[dataset[i]]=dataset.count(dataset[i])\n",
    "    final_dictionary=sorted(final_dictionary.items())\n",
    "    return dict(final_dictionary)"
   ]
  },
  {
   "cell_type": "code",
   "execution_count": 6,
   "id": "61c3f49e",
   "metadata": {},
   "outputs": [],
   "source": [
    "def generate_probabilityOfWord(dataset):\n",
    "    length=len(dataset)\n",
    "    for i in dataset.keys():\n",
    "        dataset.update({i:float('%.7f' % float(dataset[i]/length))})\n",
    "    return dataset   "
   ]
  },
  {
   "cell_type": "code",
   "execution_count": 7,
   "id": "e1844f7d",
   "metadata": {},
   "outputs": [
    {
     "name": "stdout",
     "output_type": "stream",
     "text": [
      "CPU times: total: 21.8 s\n",
      "Wall time: 28.2 s\n"
     ]
    }
   ],
   "source": [
    "%%time\n",
    "electronic_final_dataset=prepare_dataset(res_path,resources[1],electronic_dataset)\n",
    "\n",
    "electronic_word_frequency=generate_word_frequency(electronic_final_dataset)\n",
    "\n",
    "hardware_final_dataset=prepare_dataset(res_path,resources[0],hardware_dataset)\n",
    "\n",
    "hardware_word_frequency=generate_word_frequency(hardware_final_dataset)\n",
    "\n",
    "electronic_probability=generate_probabilityOfWord(electronic_word_frequency)\n",
    "\n",
    "hardware_probability=generate_probabilityOfWord(hardware_word_frequency)\n"
   ]
  },
  {
   "cell_type": "code",
   "execution_count": 8,
   "id": "6a9ae6c2",
   "metadata": {},
   "outputs": [],
   "source": [
    "def prepare_testdataset(res_path,res_name,dataset):\n",
    "    final_string=[]\n",
    "    for i in range(len(dataset)):\n",
    "        \n",
    "        with open(res_path+\"\\\\\"+res_name+\"\\\\\"+dataset[i]) as f:\n",
    "            file_text=f.read()\n",
    "            \n",
    "            message = email.message_from_string(file_text)\n",
    "            data=str(message.get_payload(decode=True))\n",
    "            data=data.replace('\\\\n',\"\")\n",
    "            file = re.sub(r'\\W', ' ', data)\n",
    "            file = re.sub(r'\\s+', ' ', file)\n",
    "            file=re.sub('(\\s+)(I|a|an|am|and|the)(\\s+)', '', file)\n",
    "            file=re.sub(r'[0-9]','',file)\n",
    "            file=file.replace('_','')\n",
    "            file=\" \"+file\n",
    "            file=\" \".join(file.split())\n",
    "            tokens = word_tokenize(file)\n",
    "            for i in tokens:\n",
    "                if(len(i) > 1):\n",
    "                    continue\n",
    "                else:\n",
    "                    tokens.remove(i)\n",
    "            final_string.append(tokens)\n",
    "    return final_string"
   ]
  },
  {
   "cell_type": "code",
   "execution_count": 9,
   "id": "0bc94d58",
   "metadata": {},
   "outputs": [],
   "source": [
    "def naive_bayes_classifier(electronic_probability,hardware_probability,res):\n",
    "    result=[]\n",
    "    for k in res:\n",
    "        test_dataset=os.listdir(test_path+\"\\\\\"+k)\n",
    "        dataset=prepare_testdataset(test_path,k,test_dataset)\n",
    "        for i in dataset:\n",
    "            elect_probability=1.0\n",
    "            hard_probability=1.0\n",
    "            for j in i:\n",
    "                if j in electronic_probability.keys():\n",
    "                    elect_probability=elect_probability*electronic_probability[j]\n",
    "                if j in hardware_probability.keys():\n",
    "                    hard_probability=elect_probability*hardware_probability[j]\n",
    "            if (hard_probability>elect_probability):\n",
    "                    result.append(['comp.sys.ibm.pc.hardware',k])\n",
    "            if (hard_probability<elect_probability): \n",
    "                    result.append(['sci.electronics',k])\n",
    "    return result"
   ]
  },
  {
   "cell_type": "code",
   "execution_count": 10,
   "id": "2969c053",
   "metadata": {},
   "outputs": [],
   "source": [
    "def calculate_accuracy(data):\n",
    "    correct=0\n",
    "    for i in range(len(data)):\n",
    "        if(data[i][0]==data[i][1]):\n",
    "            correct+=1\n",
    "    return float(correct/len(data))*100       "
   ]
  },
  {
   "cell_type": "code",
   "execution_count": 11,
   "id": "8bb985cc",
   "metadata": {},
   "outputs": [],
   "source": [
    "test_path=\"C:\\\\Users\\\\vrajp\\\\Downloads\\\\COMP-5013-dataset2\\\\dataset2\\\\test\" \n",
    "test_resources=os.listdir(test_path)"
   ]
  },
  {
   "cell_type": "code",
   "execution_count": 12,
   "id": "921307fa",
   "metadata": {},
   "outputs": [],
   "source": [
    "result=naive_bayes_classifier(electronic_probability,hardware_probability,test_resources)"
   ]
  },
  {
   "cell_type": "code",
   "execution_count": 13,
   "id": "35f0968f",
   "metadata": {},
   "outputs": [
    {
     "name": "stdout",
     "output_type": "stream",
     "text": [
      "Accuracy===> 43.44827586206896\n"
     ]
    }
   ],
   "source": [
    "Accuracy=calculate_accuracy(result)\n",
    "print(\"Accuracy===>\",Accuracy)"
   ]
  },
  {
   "cell_type": "code",
   "execution_count": null,
   "id": "0692e0a3",
   "metadata": {},
   "outputs": [],
   "source": []
  }
 ],
 "metadata": {
  "kernelspec": {
   "display_name": "Python 3 (ipykernel)",
   "language": "python",
   "name": "python3"
  },
  "language_info": {
   "codemirror_mode": {
    "name": "ipython",
    "version": 3
   },
   "file_extension": ".py",
   "mimetype": "text/x-python",
   "name": "python",
   "nbconvert_exporter": "python",
   "pygments_lexer": "ipython3",
   "version": "3.9.12"
  }
 },
 "nbformat": 4,
 "nbformat_minor": 5
}
